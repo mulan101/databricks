{
 "cells": [
  {
   "cell_type": "markdown",
   "metadata": {
    "application/vnd.databricks.v1+cell": {
     "cellMetadata": {},
     "inputWidgets": {},
     "nuid": "5d88042b-732e-4041-bdba-bf0d3e957cf9",
     "showTitle": false,
     "tableResultSettingsMap": {},
     "title": ""
    },
    "jupyter": {
     "outputs_hidden": true
    }
   },
   "source": [
    "\n",
    "#### 2. Dimension table 을 생성합니다. \n",
    "  - 배치로 데이터를 수집하여 dimension table 을 생성합니다. \n",
    "  - s3://ddbx-academy/usage-data/korea_tour/dim/\n",
    "  - Managed table 로 생성해 주세요.\n",
    "\n",
    "  |Type|Source Path|수집간격|mode|\n",
    "|---|---|---|---|\n",
    "|batch|s3://ddbx-academy/usage-data/korea_tour/dim/|매일 01시 00분 실행|overwrite|\n",
    "\n",
    "- etl_ymdh 컬럼을 추가해 주세요 (timestamp type)"
   ]
  },
  {
   "cell_type": "code",
   "execution_count": 0,
   "metadata": {
    "application/vnd.databricks.v1+cell": {
     "cellMetadata": {
      "byteLimit": 2048000,
      "rowLimit": 10000
     },
     "inputWidgets": {},
     "nuid": "d8566fd4-d7d9-4b84-b55d-5ad75e93c0fd",
     "showTitle": false,
     "tableResultSettingsMap": {},
     "title": ""
    }
   },
   "outputs": [],
   "source": [
    "df = spark.read.format('csv').option('header','true').load('s3://ddbx-academy/usage-data/korea_tour/dim/')"
   ]
  },
  {
   "cell_type": "code",
   "execution_count": 0,
   "metadata": {
    "application/vnd.databricks.v1+cell": {
     "cellMetadata": {
      "byteLimit": 2048000,
      "rowLimit": 10000
     },
     "inputWidgets": {},
     "nuid": "bf4988a0-b0b5-4faa-8b66-9a9fde98faf6",
     "showTitle": false,
     "tableResultSettingsMap": {},
     "title": ""
    }
   },
   "outputs": [],
   "source": [
    "from pyspark.sql.functions import current_timestamp, lit\n",
    "\n",
    "final_df = df.withColumn('etl_ymdh', lit(current_timestamp()))"
   ]
  },
  {
   "cell_type": "code",
   "execution_count": 0,
   "metadata": {
    "application/vnd.databricks.v1+cell": {
     "cellMetadata": {
      "byteLimit": 2048000,
      "rowLimit": 10000
     },
     "inputWidgets": {},
     "nuid": "ca77ad1a-e478-42b2-813e-a647026caf44",
     "showTitle": false,
     "tableResultSettingsMap": {},
     "title": ""
    }
   },
   "outputs": [],
   "source": [
    "final_df.write.format('delta').mode('overwrite').saveAsTable('edu2501.inqyu_park_data_dynamics_io.korea_tour_dim')"
   ]
  }
 ],
 "metadata": {
  "application/vnd.databricks.v1+notebook": {
   "computePreferences": null,
   "dashboards": [],
   "environmentMetadata": {
    "base_environment": "",
    "environment_version": "2"
   },
   "language": "python",
   "notebookMetadata": {
    "pythonIndentUnit": 4
   },
   "notebookName": "3 일차 dimension_참조",
   "widgets": {}
  },
  "language_info": {
   "name": "python"
  }
 },
 "nbformat": 4,
 "nbformat_minor": 0
}
