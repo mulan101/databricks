{
 "cells": [
  {
   "cell_type": "markdown",
   "metadata": {
    "application/vnd.databricks.v1+cell": {
     "cellMetadata": {},
     "inputWidgets": {},
     "nuid": "b2e3038d-28a2-46a3-bb27-f93136a5d1d9",
     "showTitle": false,
     "tableResultSettingsMap": {},
     "title": ""
    }
   },
   "source": [
    "\n",
    "#### 3. Silver table 을 생성합니다. \n",
    "  - bronze table 에서 해당일 데이터만 조회 후 적재해주세요.\n",
    "  - bronze table 과 dimension table 을 조인합니다.\n",
    "    - join 조건 : seq_num  \n",
    "  - score 컬럼을 추가하고 value 를 생성해주세요.\n",
    "    - value 생성조건 : 안내 가능 언어 1개당 + 1점, 연중무휴 +1점\n",
    "\n",
    "    - ex)\n",
    "      |영어|일본어|중국어|휴무일|score|\n",
    "      |---|---|---|---|---|\n",
    "      |Y|Y|Y|설 당일+추석 당일|3|\n",
    "      |N|NULL|Y|NULL|1|\n",
    "      |N|N|Y|연중무휴|2|\n",
    "\n",
    "  - 데이터를 filtering 합니다. \n",
    "    - filter column : 시도명\n",
    "    - filtering 데이터로 silver table 을 생성해 주세요.\n",
    "\n",
    "      ```\n",
    "      경상남도 - Gyeongsangnam-do\n",
    "      경기도 - Gyeonggi-do\n",
    "      전라남도 - Jeollanam-do\n",
    "      대전광역시 - Daejeon\n",
    "      강원도 - Gangwon-do\n",
    "      강원특별자치도 - Gangwon-Special\n",
    "      충청남도 - Chungcheongnam-do\n",
    "      충청북도 - Chungcheongbuk-do\n",
    "      부산광역시 - Busan\n",
    "      울산광역시 - Ulsan\n",
    "      서울특별시 - Seoul\n",
    "      대구광역시 - Daegu\n",
    "      광주광역시 - Gwangju\n",
    "      제주특별자치도 - Jeju-Special\n",
    "      경상북도 - Gyeongsangbuk-do\n",
    "      전라북도 - Jeollabuk-do\n",
    "      인천광역시 - Incheon\n",
    "\n",
    "      ```\n",
    "    - 테이블명 예시 경상남도  :  **`edu2501.{user_schema}.korea_tuor_gyeongsangnam_do_silver`**\n",
    "\n",
    "\n",
    "|Type|Source Path|수집간격|mode|\n",
    "|---|---|---|---|\n",
    "|batch|bronze table|매일 07시 00분 실행|append|\n",
    "\n",
    "❗️ bronze task Depends\n",
    "\n"
   ]
  },
  {
   "cell_type": "code",
   "execution_count": 0,
   "metadata": {
    "application/vnd.databricks.v1+cell": {
     "cellMetadata": {
      "byteLimit": 2048000,
      "rowLimit": 10000
     },
     "inputWidgets": {},
     "nuid": "4922df44-453d-4afc-a89d-84dd71ab3d61",
     "showTitle": false,
     "tableResultSettingsMap": {},
     "title": ""
    }
   },
   "outputs": [],
   "source": [
    "from pyspark.sql.functions import col, lit, when, expr\n",
    "import re\n",
    "from datetime import datetime, timedelta\n"
   ]
  },
  {
   "cell_type": "code",
   "execution_count": 0,
   "metadata": {
    "application/vnd.databricks.v1+cell": {
     "cellMetadata": {},
     "inputWidgets": {},
     "nuid": "f0383cc2-d77d-49e0-9f3a-3228f48ff302",
     "showTitle": false,
     "tableResultSettingsMap": {},
     "title": ""
    }
   },
   "outputs": [],
   "source": [
    "# TODO catalog_name 변경\n",
    "catalog_name = 'edu2501'\n",
    "username = spark.sql(\"SELECT current_user()\").first()[0]\n",
    "clean_username = re.sub(\"[^a-zA-Z0-9]\", \"_\", username)\n",
    "\n",
    "print(f'catalog_name = {catalog_name}')\n",
    "print(f'username = {username}')\n",
    "print(f'clean_username = {clean_username}')\n",
    "\n",
    "spark.sql(f'set edu.catalog={catalog_name}')\n",
    "spark.sql(f\"set edu.username={username}\")\n",
    "spark.sql(f\"set edu.clean_username={clean_username}\")"
   ]
  },
  {
   "cell_type": "markdown",
   "metadata": {
    "application/vnd.databricks.v1+cell": {
     "cellMetadata": {},
     "inputWidgets": {},
     "nuid": "c6d796f8-084b-416a-96ba-b73aa70560e6",
     "showTitle": false,
     "tableResultSettingsMap": {},
     "title": ""
    }
   },
   "source": [
    "\n",
    "## ❗️실제 테이블명이 아래와 다른경우 테이블명 입력해주세요."
   ]
  },
  {
   "cell_type": "code",
   "execution_count": 0,
   "metadata": {
    "application/vnd.databricks.v1+cell": {
     "cellMetadata": {
      "byteLimit": 2048000,
      "rowLimit": 10000
     },
     "inputWidgets": {},
     "nuid": "81988ebf-7822-4289-bf7b-beac29d5f1b0",
     "showTitle": false,
     "tableResultSettingsMap": {},
     "title": ""
    }
   },
   "outputs": [],
   "source": [
    "bronze_table = f\"{catalog_name}.{clean_username}.korea_tour_bronze\"\n",
    "\n",
    "dim_table = f\"{catalog_name}.{clean_username}.korea_tour_dimension\""
   ]
  },
  {
   "cell_type": "markdown",
   "metadata": {
    "application/vnd.databricks.v1+cell": {
     "cellMetadata": {},
     "inputWidgets": {},
     "nuid": "5407d2e8-c676-499b-97cd-7aea6de4c1f3",
     "showTitle": false,
     "tableResultSettingsMap": {},
     "title": ""
    }
   },
   "source": [
    "\n",
    "### Bronze table 에서 **`시도명 value`** 를 추출합니다. "
   ]
  },
  {
   "cell_type": "code",
   "execution_count": 0,
   "metadata": {
    "application/vnd.databricks.v1+cell": {
     "cellMetadata": {
      "byteLimit": 2048000,
      "rowLimit": 10000
     },
     "inputWidgets": {},
     "nuid": "2cd50d10-844a-4048-a796-4b309ab56845",
     "showTitle": false,
     "tableResultSettingsMap": {},
     "title": ""
    }
   },
   "outputs": [],
   "source": [
    "filter_col = spark.table(bronze_table).select('시도명').distinct().collect()\n",
    "print(filter_col)"
   ]
  },
  {
   "cell_type": "markdown",
   "metadata": {
    "application/vnd.databricks.v1+cell": {
     "cellMetadata": {},
     "inputWidgets": {},
     "nuid": "5717f004-2356-4811-8d4b-2a48e0a5a079",
     "showTitle": false,
     "tableResultSettingsMap": {},
     "title": ""
    }
   },
   "source": [
    "\n",
    "### DataFrame 반복 사용을 위해 persist() 등록 합니다."
   ]
  },
  {
   "cell_type": "code",
   "execution_count": 0,
   "metadata": {
    "application/vnd.databricks.v1+cell": {
     "cellMetadata": {
      "byteLimit": 2048000,
      "rowLimit": 10000
     },
     "inputWidgets": {},
     "nuid": "d13cec42-8b04-4ebf-a1ba-6ffd2f8fa455",
     "showTitle": false,
     "tableResultSettingsMap": {},
     "title": ""
    }
   },
   "outputs": [],
   "source": [
    "from_date = (datetime.now()+ timedelta(hours=9)).strftime('%Y-%m-%d')\n",
    "to_date = (datetime.now()+ timedelta(days=1)+ timedelta(hours=9)).strftime('%Y-%m-%d')\n",
    "\n",
    "bronze_df = spark.table(bronze_table).filter((col('etl_ymdh') >= from_date) & (col('etl_ymdh') < to_date))\n",
    "\n",
    "bronze_df.persist()"
   ]
  },
  {
   "cell_type": "markdown",
   "metadata": {
    "application/vnd.databricks.v1+cell": {
     "cellMetadata": {},
     "inputWidgets": {},
     "nuid": "6bb338b2-4554-47f8-8f04-bdadb520b5b0",
     "showTitle": false,
     "tableResultSettingsMap": {},
     "title": ""
    }
   },
   "source": [
    "\n",
    "### Spark timezone 설정"
   ]
  },
  {
   "cell_type": "code",
   "execution_count": 0,
   "metadata": {
    "application/vnd.databricks.v1+cell": {
     "cellMetadata": {
      "byteLimit": 2048000,
      "rowLimit": 10000
     },
     "inputWidgets": {},
     "nuid": "a7a75b80-88d6-4fe8-bf72-cbd0f6535976",
     "showTitle": false,
     "tableResultSettingsMap": {},
     "title": ""
    }
   },
   "outputs": [],
   "source": [
    "spark.conf.set(\"spark.sql.session.timeZone\", \"Asia/Seoul\")"
   ]
  },
  {
   "cell_type": "code",
   "execution_count": 0,
   "metadata": {
    "application/vnd.databricks.v1+cell": {
     "cellMetadata": {
      "byteLimit": 2048000,
      "rowLimit": 10000
     },
     "inputWidgets": {},
     "nuid": "f015b422-d4a1-4d80-8e31-cbb78f2ee91f",
     "showTitle": false,
     "tableResultSettingsMap": {},
     "title": ""
    }
   },
   "outputs": [],
   "source": [
    "display(bronze_df)"
   ]
  },
  {
   "cell_type": "markdown",
   "metadata": {
    "application/vnd.databricks.v1+cell": {
     "cellMetadata": {},
     "inputWidgets": {},
     "nuid": "ca952ea6-0240-4e93-9329-83933577c866",
     "showTitle": false,
     "tableResultSettingsMap": {},
     "title": ""
    }
   },
   "source": [
    "\n",
    "### 함수 선언"
   ]
  },
  {
   "cell_type": "code",
   "execution_count": 0,
   "metadata": {
    "application/vnd.databricks.v1+cell": {
     "cellMetadata": {
      "byteLimit": 2048000,
      "rowLimit": 10000
     },
     "inputWidgets": {},
     "nuid": "3ccfee52-4743-46df-8096-09aca93d289e",
     "showTitle": false,
     "tableResultSettingsMap": {},
     "title": ""
    }
   },
   "outputs": [],
   "source": [
    "#############################\n",
    "# 매핑 정보로 테이블 이름을 생성합니다.\n",
    "#############################\n",
    "\n",
    "def create_table_name(params) :\n",
    "    sido_dic = {\n",
    "    \"경상남도\" : \"gyeongsangnam-do\",\n",
    "    \"경기도\" : \"gyeonggi-do\",\n",
    "    \"전라남도\" : \"jeollanam-do\",\n",
    "    \"대전광역시\" : \"daejeon\",\n",
    "    \"강원도\" : \"gangwon-do\",\n",
    "    \"강원특별자치도\" : \"gangwon-special\",\n",
    "    \"충청남도\" : \"Chungcheongnam-do\",\n",
    "    \"충청북도\" : \"Chungcheongbuk-do\",\n",
    "    \"부산광역시\" : \"Busan\",\n",
    "    \"울산광역시\" : \"Ulsan\",\n",
    "    \"서울특별시\" : \"Seoul\",\n",
    "    \"대구광역시\" : \"Daegu\", \n",
    "    \"광주광역시\" : \"Gwangju\",\n",
    "    \"제주특별자치도\" : \"Jeju-Special\",\n",
    "    \"경상북도\" : \"Gyeongsangbuk-do\",\n",
    "    \"전라북도\" : \"Jeollabuk-do\",\n",
    "    \"인천광역시\" : \"Incheon\"\n",
    "    }\n",
    "\n",
    "    temp_value = sido_dic.get(params)\n",
    "    convert_value = re.sub(\"[^a-zA-Z0-9]\", \"_\", temp_value).lower()\n",
    "    result =  f\"{catalog_name}.{clean_username}.korea_tour_\" + convert_value + '_silver'\n",
    "\n",
    "    return result\n",
    "\n",
    "#############################\n",
    "# score 컬럼을 생성하고 점수를 부여합니다.\n",
    "#############################\n",
    "\n",
    "def create_score(bronze_df):\n",
    "    temp_df = bronze_df \\\n",
    "    .withColumn('score1', when(col('영어안내가능여부') == 'Y', 1).otherwise(0)) \\\n",
    "    .withColumn('score2', when(col('일본어안내가능여부') == 'Y', 1).otherwise(0))\\\n",
    "    .withColumn('score3', when(col('중국어안내가능여부') == 'Y', 1).otherwise(0)) \\\n",
    "    .withColumn('score4', when(col('휴무일') == '연중무휴', 1).otherwise(0)) \\\n",
    "    .withColumn('score', expr(\"score1 + score2 + score3 + score4\"))\n",
    "\n",
    "    score_df = temp_df.drop(col('score1'), col('score2'), col('score3'), col('score4'))\n",
    "    \n",
    "    return score_df\n",
    "\n",
    "#############################\n",
    "# 시도명 으로 데이터를 필터링 합니다. \n",
    "#############################\n",
    "\n",
    "def split_df(sido, bronze_df):\n",
    "    split_df = bronze_df.filter(col('시도명') == sido)\n",
    "    silver_table_name = create_table_name(sido)\n",
    "    result_df = create_score(split_df)\n",
    "\n",
    "    return result_df, silver_table_name\n",
    "\n",
    "#############################\n",
    "# silver table 을 생성합니다. \n",
    "#############################\n",
    "\n",
    "def creeate_silver_table(df, silver_table_name):\n",
    "\n",
    "    df.write.mode('append').option(\"delta.columnMapping.mode\", \"name\").option('mergeSchema', 'true').saveAsTable(silver_table_name)"
   ]
  },
  {
   "cell_type": "markdown",
   "metadata": {
    "application/vnd.databricks.v1+cell": {
     "cellMetadata": {},
     "inputWidgets": {},
     "nuid": "249aa2d6-af34-4d19-ba6b-677dda6c37a2",
     "showTitle": false,
     "tableResultSettingsMap": {},
     "title": ""
    }
   },
   "source": [
    "\n",
    "### 반복 실행 "
   ]
  },
  {
   "cell_type": "code",
   "execution_count": 0,
   "metadata": {
    "application/vnd.databricks.v1+cell": {
     "cellMetadata": {
      "byteLimit": 2048000,
      "rowLimit": 10000
     },
     "inputWidgets": {},
     "nuid": "f23dd93a-df3a-4a9f-83a4-564ef15a263c",
     "showTitle": false,
     "tableResultSettingsMap": {},
     "title": ""
    }
   },
   "outputs": [],
   "source": [
    "for row in filter_col:\n",
    "    df, sliver_table_name = split_df(row['시도명'], bronze_df)\n",
    "    print(\"====\"*5, sliver_table_name, \"====\"*5)\n",
    "    display(df)\n",
    "    creeate_silver_table(df, sliver_table_name)"
   ]
  },
  {
   "cell_type": "code",
   "execution_count": 0,
   "metadata": {
    "application/vnd.databricks.v1+cell": {
     "cellMetadata": {
      "byteLimit": 2048000,
      "rowLimit": 10000
     },
     "inputWidgets": {},
     "nuid": "3568b4cf-e33d-4799-ba3d-ab15700b83f8",
     "showTitle": false,
     "tableResultSettingsMap": {},
     "title": ""
    }
   },
   "outputs": [],
   "source": [
    "print(sliver_table_list)"
   ]
  }
 ],
 "metadata": {
  "application/vnd.databricks.v1+notebook": {
   "computePreferences": null,
   "dashboards": [],
   "environmentMetadata": {
    "base_environment": "",
    "environment_version": "2"
   },
   "language": "python",
   "notebookMetadata": {
    "pythonIndentUnit": 4
   },
   "notebookName": "3 일차 silver_참조",
   "widgets": {}
  },
  "language_info": {
   "name": "python"
  }
 },
 "nbformat": 4,
 "nbformat_minor": 0
}
