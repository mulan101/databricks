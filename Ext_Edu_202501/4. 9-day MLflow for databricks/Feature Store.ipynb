{
 "cells": [
  {
   "cell_type": "markdown",
   "metadata": {
    "application/vnd.databricks.v1+cell": {
     "cellMetadata": {},
     "inputWidgets": {},
     "nuid": "40106d5f-a6e0-4aae-851f-369e1935cf18",
     "showTitle": false,
     "tableResultSettingsMap": {},
     "title": ""
    }
   },
   "source": [
    "\n",
    "<div style=\"text-align: center; line-height: 0; padding-top: 9px;\">\n",
    "  <img src=\"files/image/DD_07.png\" alt=\"Databricks Learning\" style=\"width: 1500px\">\n",
    "</div>"
   ]
  },
  {
   "cell_type": "markdown",
   "metadata": {
    "application/vnd.databricks.v1+cell": {
     "cellMetadata": {},
     "inputWidgets": {},
     "nuid": "ce4c7e1f-544b-4bb6-b6e8-2233316f678c",
     "showTitle": false,
     "tableResultSettingsMap": {},
     "title": ""
    }
   },
   "source": [
    "##  Feature Store\n",
    "\n",
    "\n",
    "### 학습 목표 \n",
    "\n",
    "- Data를 전처리하여 Feature Table 생성하고 Feature Store에 등록합니다."
   ]
  },
  {
   "cell_type": "markdown",
   "metadata": {
    "application/vnd.databricks.v1+cell": {
     "cellMetadata": {},
     "inputWidgets": {},
     "nuid": "7fedc680-646e-4064-ba40-56338e8df867",
     "showTitle": false,
     "tableResultSettingsMap": {},
     "title": ""
    }
   },
   "source": [
    "**Feature Engineering**은 머신러닝 모델 개발 과정에서 중요한 전처리 단계입니다 \\\n",
    "이 단계에서는 원시 데이터를 모델이 이해할 수 있는 형식으로 변환하고, 모델의 성능을 최적화하기 위해 중요한 특징(Feature)을 선택하고 생성합니다"
   ]
  },
  {
   "cell_type": "markdown",
   "metadata": {
    "application/vnd.databricks.v1+cell": {
     "cellMetadata": {},
     "inputWidgets": {},
     "nuid": "14c7e66a-9996-40b9-84cf-2014f7d5336a",
     "showTitle": false,
     "tableResultSettingsMap": {},
     "title": ""
    }
   },
   "source": [
    "# Feature store 생성"
   ]
  },
  {
   "cell_type": "code",
   "execution_count": 0,
   "metadata": {
    "application/vnd.databricks.v1+cell": {
     "cellMetadata": {
      "byteLimit": 2048000,
      "rowLimit": 10000
     },
     "inputWidgets": {},
     "nuid": "ae3f5ce3-0ea2-4aeb-8f55-5f50aedc98b8",
     "showTitle": false,
     "tableResultSettingsMap": {},
     "title": ""
    }
   },
   "outputs": [],
   "source": [
    "# Feature Store를 사용하기 위한 Library를 Import 합니다.\n",
    "\n",
    "from databricks.feature_engineering import FeatureEngineeringClient\n",
    "from databricks.feature_store import FeatureLookup\n"
   ]
  },
  {
   "cell_type": "code",
   "execution_count": 0,
   "metadata": {
    "application/vnd.databricks.v1+cell": {
     "cellMetadata": {
      "byteLimit": 2048000,
      "rowLimit": 10000
     },
     "inputWidgets": {},
     "nuid": "3dfff934-4ce2-402e-b798-c4ffbcd994eb",
     "showTitle": false,
     "tableResultSettingsMap": {},
     "title": ""
    }
   },
   "outputs": [],
   "source": [
    "# Model Building 을 위한 Library를 Import 합니다.\n",
    "\n",
    "import pandas as pd\n",
    "\n",
    "from pyspark.sql.functions import monotonically_increasing_id,expr,rand\n",
    "import uuid\n",
    "\n",
    "\n",
    "#sklearn 과 관련된 Library 와 Model 평가를 위한 Library를 Import 합니다. \n",
    "from sklearn.model_selection import train_test_split\n",
    "from sklearn.ensemble import RandomForestRegressor\n",
    "from sklearn.metrics import mean_squared_error, r2_score\n",
    "\n"
   ]
  },
  {
   "cell_type": "markdown",
   "metadata": {
    "application/vnd.databricks.v1+cell": {
     "cellMetadata": {},
     "inputWidgets": {},
     "nuid": "dd9d8594-8993-4c34-8d1d-c59d422000e2",
     "showTitle": false,
     "tableResultSettingsMap": {},
     "title": ""
    }
   },
   "source": [
    "### 모델 학습용 데이터 전처리 과정"
   ]
  },
  {
   "cell_type": "code",
   "execution_count": 0,
   "metadata": {
    "application/vnd.databricks.v1+cell": {
     "cellMetadata": {
      "byteLimit": 2048000,
      "rowLimit": 10000
     },
     "inputWidgets": {},
     "nuid": "724c44f4-b93c-496f-8bdd-116abb27a52a",
     "showTitle": false,
     "tableResultSettingsMap": {},
     "title": ""
    }
   },
   "outputs": [],
   "source": [
    "%py\n",
    "import re\n",
    "\n",
    "# TODO catalog_name 변경\n",
    "catalog_name = 'edu2501'\n",
    "username = spark.sql(\"SELECT current_user()\").first()[0]\n",
    "clean_username = re.sub(\"[^a-zA-Z0-9]\", \"_\", username)\n",
    "\n",
    "print(f'catalog_name = {catalog_name}')\n",
    "print(f'username = {username}')\n",
    "print(f'clean_username = {clean_username}')\n",
    "\n",
    "spark.sql(f'set edu.catalog={catalog_name}')\n",
    "spark.sql(f\"set edu.username={username}\")\n",
    "spark.sql(f\"set edu.clean_username={clean_username}\")"
   ]
  },
  {
   "cell_type": "code",
   "execution_count": 0,
   "metadata": {
    "application/vnd.databricks.v1+cell": {
     "cellMetadata": {
      "byteLimit": 2048000,
      "implicitDf": true,
      "rowLimit": 10000
     },
     "inputWidgets": {},
     "nuid": "5cbe6c5e-3a4e-46f3-9d7e-1e651164b134",
     "showTitle": false,
     "tableResultSettingsMap": {},
     "title": ""
    }
   },
   "outputs": [],
   "source": [
    "%sql\n",
    "-- Schema 생성\n",
    "create schema if not exists ${edu.catalog}.${edu.clean_username};\n",
    "use catalog ${edu.catalog};\n",
    "use ${edu.catalog}.${edu.clean_username};"
   ]
  },
  {
   "cell_type": "code",
   "execution_count": 0,
   "metadata": {
    "application/vnd.databricks.v1+cell": {
     "cellMetadata": {
      "byteLimit": 2048000,
      "rowLimit": 10000
     },
     "inputWidgets": {},
     "nuid": "1fd35ec2-dd2b-486a-b3cb-46729b29b65a",
     "showTitle": false,
     "tableResultSettingsMap": {},
     "title": ""
    }
   },
   "outputs": [],
   "source": [
    "# 데이터 적재\n",
    "raw_data = spark.read.load(\"/databricks-datasets/wine-quality/winequality-red.csv\", format=\"csv\", sep=\";\", header=\"true\", inferSchema=\"true\")"
   ]
  },
  {
   "cell_type": "code",
   "execution_count": 0,
   "metadata": {
    "application/vnd.databricks.v1+cell": {
     "cellMetadata": {
      "byteLimit": 2048000,
      "rowLimit": 10000
     },
     "inputWidgets": {},
     "nuid": "bf657c5b-8032-45a8-a688-dd3a50fbd9a7",
     "showTitle": false,
     "tableResultSettingsMap": {},
     "title": ""
    }
   },
   "outputs": [],
   "source": [
    "raw_data"
   ]
  },
  {
   "cell_type": "code",
   "execution_count": 0,
   "metadata": {
    "application/vnd.databricks.v1+cell": {
     "cellMetadata": {
      "byteLimit": 2048000,
      "rowLimit": 10000
     },
     "inputWidgets": {},
     "nuid": "7fed35c0-2d09-4eae-8122-65d401e75896",
     "showTitle": false,
     "tableResultSettingsMap": {},
     "title": ""
    }
   },
   "outputs": [],
   "source": [
    "display(raw_data)"
   ]
  },
  {
   "cell_type": "code",
   "execution_count": 0,
   "metadata": {
    "application/vnd.databricks.v1+cell": {
     "cellMetadata": {
      "byteLimit": 2048000,
      "rowLimit": 10000
     },
     "inputWidgets": {},
     "nuid": "ed381bc8-be7c-486c-ab72-d906c6c21466",
     "showTitle": false,
     "tableResultSettingsMap": {},
     "title": ""
    }
   },
   "outputs": [],
   "source": [
    "# ID column을 추가하는 함수와, name을 변경하는 함수를 정의합니다.\n",
    "\n",
    "def addIcolumn(dataframe, id_column_name):\n",
    "    columns = dataframe.columns\n",
    "    new_df = dataframe.withColumn(id_column_name, monotonically_increasing_id())\n",
    "    return new_df[[id_column_name] + columns]\n",
    "\n",
    "def renameColumn(df):\n",
    "    renamed_df = df\n",
    "    for column in df.columns:\n",
    "        renamed_df = renamed_df.withColumnRenamed(column, column.replace(\" \", \"_\"))\n",
    "    return renamed_df\n",
    "    \n",
    "\n"
   ]
  },
  {
   "cell_type": "code",
   "execution_count": 0,
   "metadata": {
    "application/vnd.databricks.v1+cell": {
     "cellMetadata": {
      "byteLimit": 2048000,
      "rowLimit": 10000
     },
     "inputWidgets": {},
     "nuid": "18f8ce4a-099f-47eb-97ef-ea2fbaa485f2",
     "showTitle": false,
     "tableResultSettingsMap": {},
     "title": ""
    }
   },
   "outputs": [],
   "source": [
    "renamed_df = renameColumn(raw_data)\n",
    "df = addIcolumn(renamed_df, \"wine_id\")"
   ]
  },
  {
   "cell_type": "code",
   "execution_count": 0,
   "metadata": {
    "application/vnd.databricks.v1+cell": {
     "cellMetadata": {
      "byteLimit": 2048000,
      "rowLimit": 10000
     },
     "inputWidgets": {},
     "nuid": "03b2c090-69b7-4f22-9349-7e50fd58d863",
     "showTitle": false,
     "tableResultSettingsMap": {},
     "title": ""
    }
   },
   "outputs": [],
   "source": [
    "# quality를 예측 할 것이기 때문에 기존 데이터셋에서 해당 column을 drop 시켜줍니다.\n",
    "\n",
    "feature_df = df.drop(\"quality\")\n",
    "display(feature_df)"
   ]
  },
  {
   "cell_type": "code",
   "execution_count": 0,
   "metadata": {
    "application/vnd.databricks.v1+cell": {
     "cellMetadata": {
      "byteLimit": 2048000,
      "rowLimit": 10000
     },
     "inputWidgets": {},
     "nuid": "f65a5d57-adca-4c7e-84ad-c485bf9bd4cb",
     "showTitle": false,
     "tableResultSettingsMap": {},
     "title": ""
    }
   },
   "outputs": [],
   "source": [
    "#Feature Store 에 사용할 DB를 만들어 줍니다.\n",
    "# spark.sql(f\"USE CATALOG edu2501\")\n",
    "# spark.sql(f\"CREATE SCHEMA IF NOT EXISTS wine_db\")\n",
    "# spark.sql(f\"USE SCHEMA wine_db\")\n",
    "\n",
    "\n",
    "# 각 실행마다 고유의 UUID를 생성하여 Feature Store를 사용하기 위한 Table Name을 생성합니다.\n",
    "table_name = f\"wine_db_\" + str(uuid.uuid4())[:6]\n",
    "print(table_name)"
   ]
  },
  {
   "cell_type": "markdown",
   "metadata": {
    "application/vnd.databricks.v1+cell": {
     "cellMetadata": {
      "byteLimit": 2048000,
      "rowLimit": 10000
     },
     "inputWidgets": {},
     "nuid": "991cfd95-ae68-40cb-94c8-8396ac30a90d",
     "showTitle": false,
     "tableResultSettingsMap": {},
     "title": ""
    }
   },
   "source": [
    "### Feature Store에 Table 생성"
   ]
  },
  {
   "cell_type": "code",
   "execution_count": 0,
   "metadata": {
    "application/vnd.databricks.v1+cell": {
     "cellMetadata": {
      "byteLimit": 2048000,
      "rowLimit": 10000
     },
     "inputWidgets": {},
     "nuid": "f1ddfec6-c4fc-4139-97d4-b26e408c7192",
     "showTitle": false,
     "tableResultSettingsMap": {},
     "title": ""
    }
   },
   "outputs": [],
   "source": [
    "# Feature Store 에 Table 생성에 필요한 Feature enginnering Client를 생성합니다.\n",
    "fe = FeatureEngineeringClient()"
   ]
  },
  {
   "cell_type": "markdown",
   "metadata": {
    "application/vnd.databricks.v1+cell": {
     "cellMetadata": {
      "byteLimit": 2048000,
      "rowLimit": 10000
     },
     "inputWidgets": {},
     "nuid": "26327a84-c659-47d8-a1e5-84bbce76a2e1",
     "showTitle": false,
     "tableResultSettingsMap": {},
     "title": ""
    }
   },
   "source": [
    "### 생성한 Feature Engineering Client로 Feature store를 생성하고 관리 할 수 있습니다."
   ]
  },
  {
   "cell_type": "code",
   "execution_count": 0,
   "metadata": {
    "application/vnd.databricks.v1+cell": {
     "cellMetadata": {
      "byteLimit": 2048000,
      "rowLimit": 10000
     },
     "inputWidgets": {},
     "nuid": "e4cfc7c1-681b-42c1-bddb-8c6a19213522",
     "showTitle": false,
     "tableResultSettingsMap": {},
     "title": ""
    }
   },
   "outputs": [],
   "source": [
    "# Feature Store Client를 사용한 Feature Table 생성\n",
    "\n",
    "fe.create_table(\n",
    "    name=table_name,\n",
    "    primary_keys=[\"wine_id\"],\n",
    "    df=feature_df,\n",
    "    schema=feature_df.schema,\n",
    "    description=\"Wine Quality Feature Table\"\n",
    ")"
   ]
  },
  {
   "cell_type": "markdown",
   "metadata": {
    "application/vnd.databricks.v1+cell": {
     "cellMetadata": {},
     "inputWidgets": {},
     "nuid": "b54456e0-b12f-4c46-b98d-1a36f5524a39",
     "showTitle": false,
     "tableResultSettingsMap": {},
     "title": ""
    }
   },
   "source": [
    "Databricks 왼쪽 툴바 **Features** 메뉴 에서 생성된 Feature Table을 확인 할 수 있습니다."
   ]
  },
  {
   "cell_type": "markdown",
   "metadata": {
    "application/vnd.databricks.v1+cell": {
     "cellMetadata": {},
     "inputWidgets": {},
     "nuid": "3f986fdf-eb56-4b35-b363-73217c99cb74",
     "showTitle": false,
     "tableResultSettingsMap": {},
     "title": ""
    }
   },
   "source": [
    "### Feature Store의 활용"
   ]
  },
  {
   "cell_type": "code",
   "execution_count": 0,
   "metadata": {
    "application/vnd.databricks.v1+cell": {
     "cellMetadata": {
      "byteLimit": 2048000,
      "rowLimit": 10000
     },
     "inputWidgets": {},
     "nuid": "6b61fbe3-e6ca-4115-8c24-fd4778c250a8",
     "showTitle": false,
     "tableResultSettingsMap": {},
     "title": ""
    }
   },
   "outputs": [],
   "source": [
    "# 실시간 측정값 시뮬레이션하고 추론을 위한 Dataset  생성.\n",
    "\n",
    "inference_data_df = df.select(\"wine_id\",\"quality\",(10 * rand()).alias(\"real_time_measurement\"))\n",
    "display(inference_data_df)"
   ]
  },
  {
   "cell_type": "code",
   "execution_count": 0,
   "metadata": {
    "application/vnd.databricks.v1+cell": {
     "cellMetadata": {
      "byteLimit": 2048000,
      "rowLimit": 10000
     },
     "inputWidgets": {},
     "nuid": "1d45b68a-6709-4249-adf2-82d073ee4773",
     "showTitle": false,
     "tableResultSettingsMap": {},
     "title": ""
    }
   },
   "outputs": [],
   "source": [
    "# Taining, Testing, input, output 데이터셋을 생성합니다.\n",
    "\n",
    "def load_data(table_name, lookup_key):\n",
    "    model_feature_lookups = [FeatureLookup(table_name, lookup_key=lookup_key)]\n",
    "\n",
    "    training_set = training_set = fe.create_training_set(\n",
    "        df=inference_data_df,\n",
    "        feature_lookups=model_feature_lookups,\n",
    "        label='quality',\n",
    "        exclude_columns=['wine_id']\n",
    "    )\n",
    "    training_pd = training_set.load_df().toPandas()\n",
    "\n",
    "\n",
    "    # train, test 데이터셋 생성합니다.\n",
    "    X = training_pd.drop([\"quality\"], axis=1)\n",
    "    y = training_pd[\"quality\"]\n",
    "    X_train, X_test, y_train, y_test = train_test_split(X, y, test_size=0.2, random_state=42)\n",
    "    return X_train, X_test, y_train, y_test, training_set\n"
   ]
  },
  {
   "cell_type": "code",
   "execution_count": 0,
   "metadata": {
    "application/vnd.databricks.v1+cell": {
     "cellMetadata": {
      "byteLimit": 2048000,
      "rowLimit": 10000
     },
     "inputWidgets": {},
     "nuid": "b806c9c4-dc3d-439d-b619-a37b89530e19",
     "showTitle": false,
     "tableResultSettingsMap": {},
     "title": ""
    }
   },
   "outputs": [],
   "source": [
    "X_train, X_test, y_train, y_test, training_set = load_data(table_name, \"wine_id\")\n",
    "X_train.head()"
   ]
  },
  {
   "cell_type": "markdown",
   "metadata": {
    "application/vnd.databricks.v1+cell": {
     "cellMetadata": {},
     "inputWidgets": {},
     "nuid": "523f6e80-6813-4d61-9efc-bc031d92cf30",
     "showTitle": false,
     "tableResultSettingsMap": {},
     "title": ""
    }
   },
   "source": [
    "## Model 생성"
   ]
  },
  {
   "cell_type": "code",
   "execution_count": 0,
   "metadata": {
    "application/vnd.databricks.v1+cell": {
     "cellMetadata": {
      "byteLimit": 2048000,
      "rowLimit": 10000
     },
     "inputWidgets": {},
     "nuid": "7a938bfd-2d5c-4081-bb9d-fd40d86d549e",
     "showTitle": false,
     "tableResultSettingsMap": {},
     "title": ""
    }
   },
   "outputs": [],
   "source": [
    "from mlflow.tracking import MlflowClient\n",
    "\n",
    "client = MlflowClient()\n",
    "\n",
    "try: \n",
    "    client.delete_registered_model(\"wine_model\") # 이미 모델이 생성되어 있으면 삭제\n",
    "except:\n",
    "    None"
   ]
  },
  {
   "cell_type": "code",
   "execution_count": 0,
   "metadata": {
    "application/vnd.databricks.v1+cell": {
     "cellMetadata": {
      "byteLimit": 2048000,
      "rowLimit": 10000
     },
     "inputWidgets": {},
     "nuid": "76bf4ca3-7cd2-48b9-9ed1-81df28660265",
     "showTitle": false,
     "tableResultSettingsMap": {},
     "title": ""
    }
   },
   "outputs": [],
   "source": [
    "import mlflow\n",
    "\n",
    "# mlflow autologging을 사용하지 않고 Feature Store를 사용하여 모델의 log를 기록합니다.\n",
    "mlflow.sklearn.autolog(log_models=False)\n",
    "\n",
    "def train_model(X_train, X_test, y_train, y_test,training_set,fe):\n",
    "    with mlflow.start_run() as run:\n",
    "\n",
    "        rf = RandomForestRegressor(n_estimators=100, max_depth=5, random_state=42)\n",
    "        rf.fit(X_train, y_train)\n",
    "        y_pred = rf.predict(X_test)\n",
    "\n",
    "        mlflow.log_metric(\"test_mse\", mean_squared_error(y_test, y_pred))\n",
    "        mlflow.log_metric(\"test_r2\", r2_score(y_test, y_pred))\n",
    "\n",
    "        fe.log_model(\n",
    "            model = rf,\n",
    "            artifact_path = \"wine_quality_prediction\",\n",
    "            flavor = mlflow.sklearn,\n",
    "            training_set = training_set,\n",
    "            registered_model_name = \"wine_model\"\n",
    "        )\n",
    "\n",
    "train_model(X_train, X_test, y_train, y_test,training_set,fe)\n"
   ]
  },
  {
   "cell_type": "markdown",
   "metadata": {
    "application/vnd.databricks.v1+cell": {
     "cellMetadata": {},
     "inputWidgets": {},
     "nuid": "fc1b59b0-5fd6-496c-b5e5-0ac526d3d3b3",
     "showTitle": false,
     "tableResultSettingsMap": {},
     "title": ""
    }
   },
   "source": []
  }
 ],
 "metadata": {
  "application/vnd.databricks.v1+notebook": {
   "computePreferences": null,
   "dashboards": [],
   "environmentMetadata": {
    "base_environment": "",
    "environment_version": "2"
   },
   "language": "python",
   "notebookMetadata": {
    "mostRecentlyExecutedCommandWithImplicitDF": {
     "commandId": 7293789418852392,
     "dataframes": [
      "_sqldf"
     ]
    },
    "pythonIndentUnit": 4
   },
   "notebookName": "Feature Store",
   "widgets": {}
  },
  "language_info": {
   "name": "python"
  }
 },
 "nbformat": 4,
 "nbformat_minor": 0
}
