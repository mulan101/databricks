{
 "cells": [
  {
   "cell_type": "markdown",
   "metadata": {
    "application/vnd.databricks.v1+cell": {
     "cellMetadata": {},
     "inputWidgets": {},
     "nuid": "d4c743c0-c719-4139-8031-f2ffc33fc091",
     "showTitle": false,
     "tableResultSettingsMap": {},
     "title": ""
    }
   },
   "source": [
    "\n",
    "<div style=\"text-align: center; line-height: 0; padding-top: 9px;\">\n",
    "  <img src=\"files/image/DD_07.png\" alt=\"Databricks Learning\" style=\"width: 1500px\">\n",
    "</div>\n"
   ]
  },
  {
   "cell_type": "markdown",
   "metadata": {
    "application/vnd.databricks.v1+cell": {
     "cellMetadata": {},
     "inputWidgets": {},
     "nuid": "4e41f5a1-09cc-4672-b796-c8f5a2e6262f",
     "showTitle": false,
     "tableResultSettingsMap": {},
     "title": ""
    }
   },
   "source": [
    "## MLflow\n",
    "\n",
    "\n",
    "### 학습 목표 \n",
    "- MLflow의 Logging API 사용하여 log 관리 기능을 알아봅니다."
   ]
  },
  {
   "cell_type": "code",
   "execution_count": 0,
   "metadata": {
    "application/vnd.databricks.v1+cell": {
     "cellMetadata": {
      "byteLimit": 2048000,
      "implicitDf": true,
      "rowLimit": 10000
     },
     "inputWidgets": {},
     "nuid": "43f02af3-c5ec-474f-aeba-cad9ad97128e",
     "showTitle": false,
     "tableResultSettingsMap": {},
     "title": ""
    }
   },
   "outputs": [],
   "source": [
    "# Libraries import\n",
    "import mlflow\n",
    "import mlflow.sklearn\n",
    "import pandas as pd\n",
    "import matplotlib.pyplot as plt\n",
    "\n",
    "from numpy import savetxt\n",
    "\n",
    "from sklearn.model_selection import train_test_split\n",
    "from sklearn.datasets import load_diabetes\n",
    "\n",
    "from sklearn.ensemble import RandomForestRegressor\n",
    "from sklearn.metrics import mean_squared_error\n",
    "\n",
    "\n"
   ]
  },
  {
   "cell_type": "code",
   "execution_count": 0,
   "metadata": {
    "application/vnd.databricks.v1+cell": {
     "cellMetadata": {
      "byteLimit": 2048000,
      "rowLimit": 10000
     },
     "inputWidgets": {},
     "nuid": "5af98522-0baa-407d-9771-9c2fef29400e",
     "showTitle": false,
     "tableResultSettingsMap": {},
     "title": ""
    }
   },
   "outputs": [],
   "source": [
    "# 두 개의 카테고리로 데이터 분할 ,Training data , Testing data\n",
    "\n",
    "db = load_diabetes()\n",
    "x = db.data\n",
    "y = db.target\n",
    "\n",
    "X_train, X_test, y_train, y_test = train_test_split(x, y)"
   ]
  },
  {
   "cell_type": "code",
   "execution_count": 0,
   "metadata": {
    "application/vnd.databricks.v1+cell": {
     "cellMetadata": {
      "byteLimit": 2048000,
      "rowLimit": 10000
     },
     "inputWidgets": {},
     "nuid": "2370772d-fd2d-45cc-a40a-1dd6bf9beac3",
     "showTitle": false,
     "tableResultSettingsMap": {},
     "title": ""
    }
   },
   "outputs": [],
   "source": [
    "print(X_train)"
   ]
  },
  {
   "cell_type": "code",
   "execution_count": 0,
   "metadata": {
    "application/vnd.databricks.v1+cell": {
     "cellMetadata": {
      "byteLimit": 2048000,
      "rowLimit": 10000
     },
     "inputWidgets": {},
     "nuid": "92478225-0ed4-4dca-8f71-f7a57a2de1b2",
     "showTitle": false,
     "tableResultSettingsMap": {},
     "title": ""
    }
   },
   "outputs": [],
   "source": [
    "print(X_test)"
   ]
  },
  {
   "cell_type": "code",
   "execution_count": 0,
   "metadata": {
    "application/vnd.databricks.v1+cell": {
     "cellMetadata": {
      "byteLimit": 2048000,
      "rowLimit": 10000
     },
     "inputWidgets": {},
     "nuid": "6affefc1-fbfa-41c9-ac6f-8b1e002f4ed3",
     "showTitle": false,
     "tableResultSettingsMap": {},
     "title": ""
    }
   },
   "outputs": [],
   "source": [
    "print(y_train)"
   ]
  },
  {
   "cell_type": "code",
   "execution_count": 0,
   "metadata": {
    "application/vnd.databricks.v1+cell": {
     "cellMetadata": {
      "byteLimit": 2048000,
      "rowLimit": 10000
     },
     "inputWidgets": {},
     "nuid": "ddc3547c-b683-4394-93ab-7261a170efe1",
     "showTitle": false,
     "tableResultSettingsMap": {},
     "title": ""
    }
   },
   "outputs": [],
   "source": [
    "print(y_test)"
   ]
  },
  {
   "cell_type": "code",
   "execution_count": 0,
   "metadata": {
    "application/vnd.databricks.v1+cell": {
     "cellMetadata": {
      "byteLimit": 2048000,
      "rowLimit": 10000
     },
     "inputWidgets": {},
     "nuid": "2ca1d7ab-eda4-4b50-8339-c45cd4eeff7d",
     "showTitle": false,
     "tableResultSettingsMap": {},
     "title": ""
    }
   },
   "outputs": [],
   "source": [
    "print(\"Number of observations in the training data:\" ,len(X_train))\n",
    "print(\"Number of observations in the test data:\" ,len(X_test))\n",
    "print(\"Number of observations in the test data:\", len(y_train))\n",
    "print(\"Number of observations in the test data:\", len(y_test))"
   ]
  },
  {
   "cell_type": "markdown",
   "metadata": {
    "application/vnd.databricks.v1+cell": {
     "cellMetadata": {},
     "inputWidgets": {},
     "nuid": "a5b46724-c2b2-43b7-8dd2-d64add4438b3",
     "showTitle": false,
     "tableResultSettingsMap": {},
     "title": ""
    }
   },
   "source": [
    "#### MLflow version 확인"
   ]
  },
  {
   "cell_type": "code",
   "execution_count": 0,
   "metadata": {
    "application/vnd.databricks.v1+cell": {
     "cellMetadata": {
      "byteLimit": 2048000,
      "rowLimit": 10000
     },
     "inputWidgets": {},
     "nuid": "4578a3a4-b316-4d88-aa26-39f18c0c5c0c",
     "showTitle": false,
     "tableResultSettingsMap": {},
     "title": ""
    }
   },
   "outputs": [],
   "source": [
    "# mlflow version 확인\n",
    "# version 2.1.1, 12.2 LTS 이상 부터  pre- built in \n",
    "import mlflow\n",
    "print(mlflow.version.VERSION)"
   ]
  },
  {
   "cell_type": "markdown",
   "metadata": {
    "application/vnd.databricks.v1+cell": {
     "cellMetadata": {
      "byteLimit": 2048000,
      "rowLimit": 10000
     },
     "inputWidgets": {},
     "nuid": "80792653-7657-4131-8a09-a42f4585eb9c",
     "showTitle": false,
     "tableResultSettingsMap": {},
     "title": ""
    }
   },
   "source": [
    "랜덤 포레스트 회귀(Random Forest Regressor)는 여러 개의 결정 트리(Decision Tree)를 결합하여 예측 성능을 향상시키는 앙상블 학습 방법입니다. \\\n",
    "각 트리는 데이터의 무작위 하위 샘플을 사용하여 학습되고, 최종 예측은 모든 트리의 예측을 평균하여 결정됩니다"
   ]
  },
  {
   "cell_type": "markdown",
   "metadata": {
    "application/vnd.databricks.v1+cell": {
     "cellMetadata": {
      "byteLimit": 2048000,
      "rowLimit": 10000
     },
     "inputWidgets": {},
     "nuid": "1b20b4ed-bdcd-4841-b833-ad771adca88d",
     "showTitle": false,
     "tableResultSettingsMap": {},
     "title": ""
    }
   },
   "source": [
    "하이퍼파라미터(Hyperparameter)는 머신러닝 모델의 학습 과정에서 사용자가 직접 설정해야 하는 매개변수입니다. \\\n",
    "모델이 데이터를 통해 학습하는 파라미터(Parameter)와는 달리, 하이퍼파라미터는 모델의 구조나 학습 방법을 정의하는 데 사용됩니다"
   ]
  },
  {
   "cell_type": "code",
   "execution_count": 0,
   "metadata": {
    "application/vnd.databricks.v1+cell": {
     "cellMetadata": {
      "byteLimit": 2048000,
      "rowLimit": 10000
     },
     "inputWidgets": {},
     "nuid": "07de41d4-d367-4d2d-b4e2-6553b4a4f5c8",
     "showTitle": false,
     "tableResultSettingsMap": {},
     "title": ""
    }
   },
   "outputs": [],
   "source": [
    "# model Training build model\n",
    "# Feature: max_depth\n",
    "# random forest regressor 알고리즘 사용\n",
    "\n",
    "# hyper parameter 설정\n",
    "n_estimators = 100\n",
    "max_depth = 6\n",
    "max_features = 3\n",
    "\n",
    "#모델 생성\n",
    "rf = RandomForestRegressor(n_estimators=n_estimators, max_depth=max_depth, max_features=max_features)\n",
    "rf.fit(X_train, y_train)\n",
    "\n",
    "# Test dataset을 사용하여 예측\n",
    "predictions = rf.predict(X_test)"
   ]
  },
  {
   "cell_type": "markdown",
   "metadata": {
    "application/vnd.databricks.v1+cell": {
     "cellMetadata": {},
     "inputWidgets": {},
     "nuid": "dc45700b-1947-4920-9f92-5fbbf7789da1",
     "showTitle": false,
     "tableResultSettingsMap": {},
     "title": ""
    }
   },
   "source": [
    "### Experiment에서 생성된 Model 을 확인 할 수 있습니다."
   ]
  },
  {
   "cell_type": "code",
   "execution_count": 0,
   "metadata": {
    "application/vnd.databricks.v1+cell": {
     "cellMetadata": {
      "byteLimit": 2048000,
      "rowLimit": 10000
     },
     "inputWidgets": {},
     "nuid": "a03eafe5-6be8-4f29-b27b-c525a7a7984e",
     "showTitle": false,
     "tableResultSettingsMap": {},
     "title": ""
    }
   },
   "outputs": [],
   "source": [
    "#auto log 활성화\n",
    "\n",
    "#tensorflow,sklern Pytorch 등의 Library를 사용하여 자동으로 log를 생성 할 수 있습니다.\n",
    "mlflow.sklearn.autolog()\n",
    "\n",
    "# autolog는 모든 model parameter, model score, fitted model 을 자동으로 기록합니다.\n",
    "with mlflow.start_run() as run:\n",
    "\n",
    "\n",
    "    # parameter 설정\n",
    "    n_estimators = 100\n",
    "    max_depth = 6\n",
    "    max_features = 3\n",
    "\n",
    "\n",
    "    # train model 생성\n",
    "    rf = RandomForestRegressor(n_estimators=n_estimators, max_depth=max_depth, max_features=max_features)\n",
    "    rf.fit(X_train, y_train)\n",
    "\n",
    "    # Testdataset 에서 모델을 사용하여 예측 생성.\n",
    "    predictions = rf.predict(X_test)\n",
    "\n"
   ]
  },
  {
   "cell_type": "markdown",
   "metadata": {
    "application/vnd.databricks.v1+cell": {
     "cellMetadata": {
      "byteLimit": 2048000,
      "rowLimit": 10000
     },
     "inputWidgets": {},
     "nuid": "4379ece0-7837-4ada-9532-b5831687a58e",
     "showTitle": false,
     "tableResultSettingsMap": {},
     "title": ""
    }
   },
   "source": [
    "모델을 하나 만들 때 마다 새로운 Experiment 가 생성되는 것이 아니라 같은 노트북에서는  같은 experiment에서 새로운 모델을 만드는 것 입니다.\\\n",
    "따라서 특정 노트북내에서 모델을 생성하는 코드를 실행하면 하나의 Experiment 에서 로그가 기록됩니다."
   ]
  },
  {
   "cell_type": "markdown",
   "metadata": {
    "application/vnd.databricks.v1+cell": {
     "cellMetadata": {
      "byteLimit": 2048000,
      "rowLimit": 10000
     },
     "inputWidgets": {},
     "nuid": "a8a35c98-ca04-4979-92dc-4d6a90586763",
     "showTitle": false,
     "tableResultSettingsMap": {},
     "title": ""
    }
   },
   "source": [
    "위의 셀을 parameter만 바꾸어서 실행하면 같은 Experiment에서 새로운 모델이 생기는 것 확인 할 수 있습니다."
   ]
  },
  {
   "cell_type": "code",
   "execution_count": 0,
   "metadata": {
    "application/vnd.databricks.v1+cell": {
     "cellMetadata": {
      "byteLimit": 2048000,
      "rowLimit": 10000
     },
     "inputWidgets": {},
     "nuid": "e5ebac98-e647-4ba2-8773-0dea86c93a9c",
     "showTitle": false,
     "tableResultSettingsMap": {},
     "title": ""
    }
   },
   "outputs": [],
   "source": [
    "#auto log 활성화\n",
    "\n",
    "#tensorflow,sklern Pytorch 등의 Library를 사용하여 자동으로 log를 생성 할 수 있음.\n",
    "mlflow.sklearn.autolog()\n",
    "\n",
    "# autolog는 모든 model parameter, model score, fitted model 을 자동으로 기록한다.\n",
    "\n",
    "with mlflow.start_run() as run:\n",
    "\n",
    "\n",
    "    # parameter 설정\n",
    "    # n_estimators = 100\n",
    "    n_estimators = 120\n",
    "    max_depth = 6\n",
    "    max_features = 3\n",
    "\n",
    "\n",
    "    # train model 생성\n",
    "    rf = RandomForestRegressor(n_estimators=n_estimators, max_depth=max_depth, max_features=max_features)\n",
    "    rf.fit(X_train, y_train)\n",
    "\n",
    "    # Testdataset 에서 모델을 사용하여 예측 생성.\n",
    "    predictions = rf.predict(X_test)"
   ]
  },
  {
   "cell_type": "markdown",
   "metadata": {
    "application/vnd.databricks.v1+cell": {
     "cellMetadata": {
      "byteLimit": 2048000,
      "rowLimit": 10000
     },
     "inputWidgets": {},
     "nuid": "23bff2b9-4c97-4275-a45b-1e82acc4fb03",
     "showTitle": false,
     "tableResultSettingsMap": {},
     "title": ""
    }
   },
   "source": [
    "n_estimators 와 같이 달라진 parameter를 포함해서 모든 것 들이 기록됩니다."
   ]
  },
  {
   "cell_type": "markdown",
   "metadata": {
    "application/vnd.databricks.v1+cell": {
     "cellMetadata": {},
     "inputWidgets": {},
     "nuid": "904dbcd3-d94c-4c4a-9727-c718d11a7116",
     "showTitle": false,
     "tableResultSettingsMap": {},
     "title": ""
    }
   },
   "source": [
    "### Model Artifacts"
   ]
  },
  {
   "cell_type": "markdown",
   "metadata": {
    "application/vnd.databricks.v1+cell": {
     "cellMetadata": {},
     "inputWidgets": {},
     "nuid": "9d846382-3b2b-4e30-96a2-924891f42b7b",
     "showTitle": false,
     "tableResultSettingsMap": {},
     "title": ""
    }
   },
   "source": [
    "Model artifact Model Artifact는 머신러닝 모델과 관련된 모든 파일과 데이터를 포함하는 패키지입니다. 이 패키지는 모델을 재현하거나 배포할 때 필요한 모든 정보를 담고 있습니다. \\\n",
    " 주요 구성 요소는 다음과 같습니다:  \n",
    "\n",
    "* 모델 파일: 실제 머신러닝 모델이 저장된 파일입니다. 예를 들어, PyTorch 모델의 경우 .pt 파일이 될 수 있습니다.\n",
    "* 환경 설정 파일: 모델을 실행하는 데 필요한 라이브러리와 패키지를 정의한 requirements.txt 또는 conda.yaml 파일입니다.\n",
    "* 추가 아티팩트: 모델의 성능을 평가하는 데 사용된 메트릭, 플롯, 기타 관련 파일들이 포함될 수 있습니다. \n",
    "\n",
    "이를 통해 모델 개발 환경을 재현할 수 있습니다1.\n"
   ]
  },
  {
   "cell_type": "markdown",
   "metadata": {
    "application/vnd.databricks.v1+cell": {
     "cellMetadata": {},
     "inputWidgets": {},
     "nuid": "15f12f1a-23d4-44bf-b9b0-6a1922799761",
     "showTitle": false,
     "tableResultSettingsMap": {},
     "title": ""
    }
   },
   "source": [
    " Estimator는 머신러닝 모델을 학습시키기 위한 객체입니다. Estimator는 데이터셋을 입력으로 받아 모델을 학습시키고, 학습된 모델을 반환합니다"
   ]
  },
  {
   "cell_type": "markdown",
   "metadata": {
    "application/vnd.databricks.v1+cell": {
     "cellMetadata": {},
     "inputWidgets": {},
     "nuid": "d46d411b-be9d-44fb-95fd-c305a7ffc819",
     "showTitle": false,
     "tableResultSettingsMap": {},
     "title": ""
    }
   },
   "source": [
    "### Experiment에 Artifact 파일들"
   ]
  },
  {
   "cell_type": "markdown",
   "metadata": {
    "application/vnd.databricks.v1+cell": {
     "cellMetadata": {},
     "inputWidgets": {},
     "nuid": "8235132b-3eaa-4f33-adb0-5caa8f14ddee",
     "showTitle": false,
     "tableResultSettingsMap": {},
     "title": ""
    }
   },
   "source": [
    "- 모델은 model.py 에 있습니다.\n",
    "- conda.yaml: Conda의 환경을 정의하고 공유하는 데 사용되는 파일.특정 환경에서 필요한 패키지와 그 버젼 정보가 포함되어 있습니다. \n",
    "  * Conda는 패키지 및 환경을 관리하는 데이터 과학 및 ML 프로젝트에서 사용되는 패키지 및 환경관리도구 입니다.\n",
    "- python_env: dependency를 포함하고 있는 python 설정파일입니다.\n",
    "- requirements.txt: library dependency를 정보를 포함하고 있습니다.\n",
    "- estomator.html: 다운로드 가능한 estimator dot HTML file 입니다.\n"
   ]
  },
  {
   "cell_type": "markdown",
   "metadata": {
    "application/vnd.databricks.v1+cell": {
     "cellMetadata": {},
     "inputWidgets": {},
     "nuid": "b8cee863-0910-43a4-8c6d-d1b1625a714b",
     "showTitle": false,
     "tableResultSettingsMap": {},
     "title": ""
    }
   },
   "source": [
    "## Default experiment 외 다른 Experiment 실행하기"
   ]
  },
  {
   "cell_type": "code",
   "execution_count": 0,
   "metadata": {
    "application/vnd.databricks.v1+cell": {
     "cellMetadata": {
      "byteLimit": 2048000,
      "rowLimit": 10000
     },
     "inputWidgets": {},
     "nuid": "107c80e5-9b51-4bfc-bb11-c9d4f3e6e245",
     "showTitle": false,
     "tableResultSettingsMap": {},
     "title": ""
    }
   },
   "outputs": [],
   "source": [
    "experiment_name = \"/Users/hanki.kim@data-dynamics.io/diabetes_experiment\"\n",
    "mlflow.set_experiment(experiment_name)\n",
    "\n",
    "with mlflow.start_run() as run:\n",
    "\n",
    "\n",
    "    # parameter 설정\n",
    "    # n_estimators = 100\n",
    "    n_estimators = 120\n",
    "    max_depth = 6\n",
    "    max_features = 3\n",
    "\n",
    "    #Log parameter 생성\n",
    "    mlflow.log_param(\"num_trees\", n_estimators)\n",
    "    mlflow.log_param(\"max_depth\", max_depth)\n",
    "    mlflow.log_param(\"max_features\", max_features)\n",
    "\n",
    "\n",
    "    # train model 생성\n",
    "    rf = RandomForestRegressor(n_estimators=n_estimators, max_depth=max_depth, max_features=max_features)\n",
    "    rf.fit(X_train, y_train)\n",
    "\n",
    "    # Testdataset 에서 모델을 사용하여 예측 생성.\n",
    "    predictions = rf.predict(X_test)"
   ]
  },
  {
   "cell_type": "markdown",
   "metadata": {
    "application/vnd.databricks.v1+cell": {
     "cellMetadata": {},
     "inputWidgets": {},
     "nuid": "e7845beb-cd9b-44ab-8022-1481b5954597",
     "showTitle": false,
     "tableResultSettingsMap": {},
     "title": ""
    }
   },
   "source": [
    "#### 새로운 experiment가 생성 되는 것을 확인 할 수 있습니다."
   ]
  },
  {
   "cell_type": "markdown",
   "metadata": {
    "application/vnd.databricks.v1+cell": {
     "cellMetadata": {},
     "inputWidgets": {},
     "nuid": "b3cedbc7-9cf6-4b25-945b-2717b3bc9bd1",
     "showTitle": false,
     "tableResultSettingsMap": {},
     "title": ""
    }
   },
   "source": [
    "## Experimnet의 이름을 알고 있을 때, 특정  Experiment 의 정보 가져오기"
   ]
  },
  {
   "cell_type": "code",
   "execution_count": 0,
   "metadata": {
    "application/vnd.databricks.v1+cell": {
     "cellMetadata": {
      "byteLimit": 2048000,
      "rowLimit": 10000
     },
     "inputWidgets": {},
     "nuid": "661c7041-a628-493d-9d9e-5d458ffd39ee",
     "showTitle": false,
     "tableResultSettingsMap": {},
     "title": ""
    }
   },
   "outputs": [],
   "source": [
    "import mlflow\n",
    "\n",
    "experiment = mlflow.set_experiment(\"/Users/hanki.kim@data-dynamics.io/diabetes_experiment\")\n",
    "\n",
    "\n",
    "print(\"Experiment_id: {}\".format(experiment.experiment_id))\n",
    "print(\"Artifact Location: {}\".format(experiment.artifact_location))\n",
    "print(\"Tags : {}\".format(experiment.tags))\n",
    "print(\"Lifecycle_stage: {}\".format(experiment.lifecycle_stage))"
   ]
  },
  {
   "cell_type": "markdown",
   "metadata": {
    "application/vnd.databricks.v1+cell": {
     "cellMetadata": {},
     "inputWidgets": {},
     "nuid": "00fee82a-b459-4f02-8239-cf2561e82b38",
     "showTitle": false,
     "tableResultSettingsMap": {},
     "title": ""
    }
   },
   "source": [
    "Experiments의 메뉴에서 해당 Experiment의 Overview 에서도 위의 정보들을 확인 할 수 있습니다."
   ]
  },
  {
   "cell_type": "markdown",
   "metadata": {
    "application/vnd.databricks.v1+cell": {
     "cellMetadata": {},
     "inputWidgets": {},
     "nuid": "80457dfa-28e6-451c-9a90-625e392e69a4",
     "showTitle": false,
     "tableResultSettingsMap": {},
     "title": ""
    }
   },
   "source": [
    "# experiment_id 로  Experiment 실행하기"
   ]
  },
  {
   "cell_type": "markdown",
   "metadata": {
    "application/vnd.databricks.v1+cell": {
     "cellMetadata": {},
     "inputWidgets": {},
     "nuid": "403557b8-261e-4c78-9a96-5f95bbbf1210",
     "showTitle": false,
     "tableResultSettingsMap": {},
     "title": ""
    }
   },
   "source": [
    "`mlflow.start_run(experiment_id=\"\")` 부분에 **experiment_id**  입력 후 실행"
   ]
  },
  {
   "cell_type": "code",
   "execution_count": 0,
   "metadata": {
    "application/vnd.databricks.v1+cell": {
     "cellMetadata": {
      "byteLimit": 2048000,
      "rowLimit": 10000
     },
     "inputWidgets": {},
     "nuid": "b034adf4-c9bc-4cd4-9e78-e7f23cd4db64",
     "showTitle": false,
     "tableResultSettingsMap": {},
     "title": ""
    }
   },
   "outputs": [],
   "source": [
    "with mlflow.start_run(experiment_id = \"\") as run:\n",
    "\n",
    "\n",
    "    # parameter 설정\n",
    "    # n_estimators = 100\n",
    "    n_estimators = 120\n",
    "    max_depth = 6\n",
    "    max_features = 3\n",
    "\n",
    "    #Log parameter 생성\n",
    "    mlflow.log_param(\"num_trees\", n_estimators)\n",
    "    mlflow.log_param(\"max_depth\", max_depth)\n",
    "    mlflow.log_param(\"max_features\", max_features)\n",
    "\n",
    "\n",
    "    # train model 생성\n",
    "    rf = RandomForestRegressor(n_estimators=n_estimators, max_depth=max_depth, max_features=max_features)\n",
    "    rf.fit(X_train, y_train)\n",
    "\n",
    "    # Testdataset 에서 모델을 사용하여 예측 생성.\n",
    "    predictions = rf.predict(X_test)"
   ]
  }
 ],
 "metadata": {
  "application/vnd.databricks.v1+notebook": {
   "computePreferences": null,
   "dashboards": [],
   "environmentMetadata": {
    "base_environment": "",
    "environment_version": "2"
   },
   "language": "python",
   "notebookMetadata": {
    "mostRecentlyExecutedCommandWithImplicitDF": {
     "commandId": -1,
     "dataframes": [
      "_sqldf"
     ]
    },
    "pythonIndentUnit": 4
   },
   "notebookName": "MLflow Logging API",
   "widgets": {}
  },
  "language_info": {
   "name": "python"
  }
 },
 "nbformat": 4,
 "nbformat_minor": 0
}
