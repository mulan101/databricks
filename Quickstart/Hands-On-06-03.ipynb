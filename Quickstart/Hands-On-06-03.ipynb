{
 "cells": [
  {
   "cell_type": "code",
   "execution_count": 0,
   "metadata": {
    "application/vnd.databricks.v1+cell": {
     "cellMetadata": {
      "byteLimit": 2048000,
      "rowLimit": 10000
     },
     "inputWidgets": {},
     "nuid": "dceb643e-acd5-4e25-a5a7-9d31c1c8264f",
     "showTitle": false,
     "tableResultSettingsMap": {},
     "title": ""
    }
   },
   "outputs": [],
   "source": [
    "SELECT\n",
    "  artist_name,\n",
    "  count(artist_name)\n",
    "AS\n",
    "  num_songs,\n",
    "  year\n",
    "FROM\n",
    "  hjh_workspace.bronze.transformed_song\n",
    "WHERE\n",
    "  year > 0\n",
    "GROUP BY\n",
    "  artist_name,\n",
    "  year\n",
    "ORDER BY\n",
    "  num_songs DESC,\n",
    "  year DESC"
   ]
  },
  {
   "cell_type": "code",
   "execution_count": 0,
   "metadata": {
    "application/vnd.databricks.v1+cell": {
     "cellMetadata": {
      "byteLimit": 2048000,
      "rowLimit": 10000
     },
     "inputWidgets": {},
     "nuid": "fb7be19f-1c0b-42d5-9dac-bb46b100e242",
     "showTitle": false,
     "tableResultSettingsMap": {},
     "title": ""
    }
   },
   "outputs": [],
   "source": [
    "SELECT\n",
    "   artist_name,\n",
    "   title,\n",
    "   tempo\n",
    " FROM\n",
    "   hjh_workspace.bronze.transformed_song\n",
    " WHERE\n",
    "   time_signature = 4\n",
    "   AND\n",
    "   tempo between 100 and 140;"
   ]
  },
  {
   "cell_type": "code",
   "execution_count": 0,
   "metadata": {
    "application/vnd.databricks.v1+cell": {
     "cellMetadata": {},
     "inputWidgets": {},
     "nuid": "8f102684-d10a-4f89-aa90-9a525f939db8",
     "showTitle": false,
     "tableResultSettingsMap": {},
     "title": ""
    }
   },
   "outputs": [],
   "source": []
  }
 ],
 "metadata": {
  "application/vnd.databricks.v1+notebook": {
   "computePreferences": null,
   "dashboards": [],
   "environmentMetadata": {
    "base_environment": "",
    "environment_version": "2"
   },
   "language": "sql",
   "notebookMetadata": {},
   "notebookName": "Hands-On-06-03",
   "widgets": {}
  },
  "language_info": {
   "name": "sql"
  }
 },
 "nbformat": 4,
 "nbformat_minor": 0
}
