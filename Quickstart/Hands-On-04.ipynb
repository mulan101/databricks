{
 "cells": [
  {
   "cell_type": "code",
   "execution_count": 0,
   "metadata": {
    "application/vnd.databricks.v1+cell": {
     "cellMetadata": {
      "byteLimit": 2048000,
      "rowLimit": 10000
     },
     "inputWidgets": {},
     "nuid": "8680e44b-bc2a-48ea-a786-0d4c02eff0be",
     "showTitle": false,
     "tableResultSettingsMap": {},
     "title": ""
    }
   },
   "outputs": [],
   "source": [
    "catalog = \"hjh_workspace\"\n",
    "schema = \"bronze\"\n",
    "table_name = \"baby_names\"\n",
    "silver_table_name = \"baby_names_prepared\"\n",
    "gold_table_name = \"top_baby_names_2021\"\n",
    "path_table = catalog + \".\" + schema\n",
    "print(path_table) # Show the complete path"
   ]
  },
  {
   "cell_type": "code",
   "execution_count": 0,
   "metadata": {
    "application/vnd.databricks.v1+cell": {
     "cellMetadata": {
      "byteLimit": 2048000,
      "rowLimit": 10000
     },
     "inputWidgets": {},
     "nuid": "65c1aff3-0784-4a41-9951-9a2f20578a75",
     "showTitle": false,
     "tableResultSettingsMap": {},
     "title": ""
    }
   },
   "outputs": [],
   "source": [
    "df_raw = spark.read.table(f\"{path_table}.{table_name}\")\n",
    "display(df_raw)"
   ]
  },
  {
   "cell_type": "code",
   "execution_count": 0,
   "metadata": {
    "application/vnd.databricks.v1+cell": {
     "cellMetadata": {
      "byteLimit": 2048000,
      "rowLimit": 10000
     },
     "inputWidgets": {},
     "nuid": "c6a372f5-94c0-4c3b-b3e7-d4531712d7f0",
     "showTitle": false,
     "tableResultSettingsMap": {},
     "title": ""
    }
   },
   "outputs": [],
   "source": [
    "from pyspark.sql.functions import col, initcap, when\n",
    "\n",
    "# Rename \"Year\" column to \"Year_Of_Birth\"\n",
    "df_rename_year = df_raw.withColumnRenamed(\"Year\", \"Year_Of_Birth\")\n",
    "\n",
    "# Change the case of \"First_Name\" column to initcap\n",
    "df_init_caps = df_rename_year.withColumn(\"First_Name\", initcap(col(\"First_Name\").cast(\"string\")))\n",
    "\n",
    "# Update column values from \"M\" to \"male\" and \"F\" to \"female\"\n",
    "df_baby_names_sex = df_init_caps.withColumn(\n",
    "\"Sex\",\n",
    "    when(col(\"Sex\") == \"M\", \"Male\")\n",
    "    .when(col(\"Sex\") == \"F\", \"Female\")\n",
    ")\n",
    "\n",
    "# display\n",
    "display(df_baby_names_sex)\n",
    "\n",
    "# Save DataFrame to table\n",
    "df_baby_names_sex.write.mode(\"overwrite\").saveAsTable(f\"{path_table}.{silver_table_name}\")"
   ]
  },
  {
   "cell_type": "code",
   "execution_count": 0,
   "metadata": {
    "application/vnd.databricks.v1+cell": {
     "cellMetadata": {
      "byteLimit": 2048000,
      "rowLimit": 10000
     },
     "inputWidgets": {},
     "nuid": "8b5cc80d-c7b9-4aab-8157-582f69d38f2c",
     "showTitle": false,
     "tableResultSettingsMap": {},
     "title": ""
    }
   },
   "outputs": [
    {
     "output_type": "display_data",
     "data": {
      "text/plain": [
       "Databricks visualization. Run in Databricks to view."
      ]
     },
     "metadata": {
      "application/vnd.databricks.v1.subcommand+json": {
       "baseErrorDetails": null,
       "bindings": {},
       "collapsed": false,
       "command": "%python\n__backend_agg_display_orig = display\n__backend_agg_dfs = []\ndef __backend_agg_display_new(df):\n    __backend_agg_df_modules = [\"pandas.core.frame\", \"databricks.koalas.frame\", \"pyspark.sql.dataframe\", \"pyspark.pandas.frame\", \"pyspark.sql.connect.dataframe\"]\n    if (type(df).__module__ in __backend_agg_df_modules and type(df).__name__ == 'DataFrame') or isinstance(df, list):\n        __backend_agg_dfs.append(df)\n\ndisplay = __backend_agg_display_new\n\ndef __backend_agg_user_code_fn():\n    import base64\n    exec(base64.standard_b64decode(\"ZnJvbSBweXNwYXJrLnNxbC5mdW5jdGlvbnMgaW1wb3J0IGV4cHIsIHN1bSwgZGVzYwpmcm9tIHB5c3Bhcmsuc3FsIGltcG9ydCBXaW5kb3cKCiMgQ291bnQgb2YgbmFtZXMgZm9yIGVudGlyZSBzdGF0ZSBvZiBOZXcgWW9yayBieSBzZXgKZGZfYmFieV9uYW1lc18yMDIxX2dyb3VwZWQ9KGRmX2JhYnlfbmFtZXNfc2V4Ci5maWx0ZXIoZXhwcigiWWVhcl9PZl9CaXJ0aCA9PSAyMDIxIikpCi5ncm91cEJ5KCJTZXgiLCAiRmlyc3RfTmFtZSIpCi5hZ2coc3VtKCJDb3VudCIpLmFsaWFzKCJUb3RhbF9Db3VudCIpKQouc29ydChkZXNjKCJUb3RhbF9Db3VudCIpKSkKCiMgRGlzcGxheSBkYXRhCmRpc3BsYXkoZGZfYmFieV9uYW1lc18yMDIxX2dyb3VwZWQpCgojIFNhdmUgRGF0YUZyYW1lIHRvIGEgdGFibGUKZGZfYmFieV9uYW1lc18yMDIxX2dyb3VwZWQud3JpdGUubW9kZSgib3ZlcndyaXRlIikuc2F2ZUFzVGFibGUoZiJ7cGF0aF90YWJsZX0ue2dvbGRfdGFibGVfbmFtZX0iKQ==\").decode())\n\ntry:\n    # run user code\n    __backend_agg_user_code_fn()\n\n    #reset display function\n    display = __backend_agg_display_orig\n\n    if len(__backend_agg_dfs) > 0:\n        # create a temp view\n        if type(__backend_agg_dfs[0]).__module__ == \"databricks.koalas.frame\":\n            # koalas dataframe\n            __backend_agg_dfs[0].to_spark().createOrReplaceTempView(\"DatabricksView339908d\")\n        elif type(__backend_agg_dfs[0]).__module__ == \"pandas.core.frame\" or isinstance(__backend_agg_dfs[0], list):\n            # pandas dataframe\n            spark.createDataFrame(__backend_agg_dfs[0]).createOrReplaceTempView(\"DatabricksView339908d\")\n        else:\n            __backend_agg_dfs[0].createOrReplaceTempView(\"DatabricksView339908d\")\n        #run backend agg\n        display(spark.sql(\"\"\"WITH q AS (select * from DatabricksView339908d) SELECT `First_Name`,SUM(`Total_Count`) `column_d0422ce939`,`Sex` FROM q GROUP BY `First_Name`,`Sex`\"\"\"))\n    else:\n        displayHTML(\"dataframe no longer exists. If you're using dataframe.display(), use display(dataframe) instead.\")\n\n\nfinally:\n    spark.sql(\"drop view if exists DatabricksView339908d\")\n    display = __backend_agg_display_orig\n    del __backend_agg_display_new\n    del __backend_agg_display_orig\n    del __backend_agg_dfs\n    del __backend_agg_user_code_fn\n\n",
       "commandTitle": "Visualization 1",
       "commandType": "auto",
       "commandVersion": 0,
       "commentThread": [],
       "commentsVisible": false,
       "contentSha256Hex": null,
       "customPlotOptions": {
        "redashChart": [
         {
          "key": "type",
          "value": "CHART"
         },
         {
          "key": "options",
          "value": {
           "alignYAxesAtZero": true,
           "coefficient": 1,
           "columnConfigurationMap": {
            "series": {
             "column": "Sex",
             "id": "column_d0422ce937"
            },
            "x": {
             "column": "First_Name",
             "id": "column_d0422ce935"
            },
            "y": [
             {
              "column": "Total_Count",
              "id": "column_d0422ce939",
              "transform": "SUM"
             }
            ]
           },
           "dateTimeFormat": "DD/MM/YYYY HH:mm",
           "direction": {
            "type": "counterclockwise"
           },
           "error_y": {
            "type": "data",
            "visible": true
           },
           "globalSeriesType": "column",
           "isAggregationOn": true,
           "legend": {
            "traceorder": "normal"
           },
           "missingValuesAsZero": true,
           "numberFormat": "0,0.[00000]",
           "percentFormat": "0[.]00%",
           "series": {
            "error_y": {
             "type": "data",
             "visible": true
            },
            "stacking": null
           },
           "seriesOptions": {
            "column_d0422ce939": {
             "type": "column",
             "yAxis": 0
            }
           },
           "showDataLabels": false,
           "sizemode": "diameter",
           "sortX": true,
           "sortY": true,
           "swappedAxes": false,
           "textFormat": "",
           "useAggregationsUi": true,
           "valuesOptions": {},
           "version": 2,
           "xAxis": {
            "labels": {
             "enabled": true
            },
            "type": "-"
           },
           "yAxis": [
            {
             "type": "-"
            },
            {
             "opposite": true,
             "type": "-"
            }
           ]
          }
         }
        ]
       },
       "datasetPreviewNameToCmdIdMap": {},
       "diffDeletes": [],
       "diffInserts": [],
       "displayType": "redashChart",
       "error": null,
       "errorDetails": null,
       "errorSummary": null,
       "errorTraceType": null,
       "finishTime": 0,
       "globalVars": {},
       "guid": "",
       "height": "auto",
       "hideCommandCode": false,
       "hideCommandResult": false,
       "iPythonMetadata": null,
       "inputWidgets": {},
       "isLockedInExamMode": false,
       "latestUser": "a user",
       "latestUserId": null,
       "listResultMetadata": null,
       "metadata": {},
       "nuid": "0c80a6ec-8282-4735-8887-6fe7b712d780",
       "origId": 0,
       "parentHierarchy": [],
       "pivotAggregation": null,
       "pivotColumns": null,
       "position": 5.0,
       "resultDbfsErrorMessage": null,
       "resultDbfsStatus": "INLINED_IN_TREE",
       "results": null,
       "showCommandTitle": false,
       "startTime": 0,
       "state": "input",
       "streamStates": {},
       "subcommandOptions": {
        "queryPlan": {
         "groups": [
          {
           "column": "First_Name",
           "type": "column"
          },
          {
           "column": "Sex",
           "type": "column"
          }
         ],
         "selects": [
          {
           "column": "First_Name",
           "type": "column"
          },
          {
           "alias": "column_d0422ce939",
           "args": [
            {
             "column": "Total_Count",
             "type": "column"
            }
           ],
           "function": "SUM",
           "type": "function"
          },
          {
           "column": "Sex",
           "type": "column"
          }
         ]
        }
       },
       "submitTime": 0,
       "subtype": "tableResultSubCmd.visualization",
       "tableResultIndex": 0,
       "tableResultSettingsMap": {},
       "useConsistentColors": false,
       "version": "CommandV1",
       "width": "auto",
       "workflows": null,
       "xColumns": null,
       "yColumns": null
      }
     },
     "output_type": "display_data"
    }
   ],
   "source": [
    "from pyspark.sql.functions import expr, sum, desc\n",
    "from pyspark.sql import Window\n",
    "\n",
    "# Count of names for entire state of New York by sex\n",
    "df_baby_names_2021_grouped=(df_baby_names_sex\n",
    ".filter(expr(\"Year_Of_Birth == 2021\"))\n",
    ".groupBy(\"Sex\", \"First_Name\")\n",
    ".agg(sum(\"Count\").alias(\"Total_Count\"))\n",
    ".sort(desc(\"Total_Count\")))\n",
    "\n",
    "# Display data\n",
    "display(df_baby_names_2021_grouped)\n",
    "\n",
    "# Save DataFrame to a table\n",
    "df_baby_names_2021_grouped.write.mode(\"overwrite\").saveAsTable(f\"{path_table}.{gold_table_name}\")"
   ]
  },
  {
   "cell_type": "code",
   "execution_count": 0,
   "metadata": {
    "application/vnd.databricks.v1+cell": {
     "cellMetadata": {},
     "inputWidgets": {},
     "nuid": "ba793f24-c8c0-4c15-83ea-54f8cf35dbcb",
     "showTitle": false,
     "tableResultSettingsMap": {},
     "title": ""
    }
   },
   "outputs": [],
   "source": []
  }
 ],
 "metadata": {
  "application/vnd.databricks.v1+notebook": {
   "computePreferences": null,
   "dashboards": [],
   "environmentMetadata": {
    "base_environment": "",
    "environment_version": "2"
   },
   "language": "python",
   "notebookMetadata": {
    "pythonIndentUnit": 4
   },
   "notebookName": "Hands-On-04",
   "widgets": {}
  },
  "language_info": {
   "name": "python"
  }
 },
 "nbformat": 4,
 "nbformat_minor": 0
}
