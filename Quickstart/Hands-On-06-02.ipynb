{
 "cells": [
  {
   "cell_type": "code",
   "execution_count": 0,
   "metadata": {
    "application/vnd.databricks.v1+cell": {
     "cellMetadata": {
      "byteLimit": 2048000,
      "rowLimit": 10000
     },
     "inputWidgets": {},
     "nuid": "55f97f51-4a69-475e-b16c-d6ac3f4fe58a",
     "showTitle": false,
     "tableResultSettingsMap": {},
     "title": ""
    }
   },
   "outputs": [],
   "source": [
    "CREATE OR REPLACE TABLE\n",
    "  hjh_workspace.bronze.transformed_song (\n",
    "    artist_id STRING,\n",
    "    artist_name STRING,\n",
    "    duration DOUBLE,\n",
    "    release STRING,\n",
    "    tempo DOUBLE,\n",
    "    time_signature DOUBLE,\n",
    "    title STRING,\n",
    "    year DOUBLE,\n",
    "    processed_time TIMESTAMP\n",
    "  );\n",
    "\n",
    "INSERT INTO\n",
    "  hjh_workspace.bronze.transformed_song\n",
    "SELECT\n",
    "  artist_id,\n",
    "  artist_name,\n",
    "  duration,\n",
    "  release,\n",
    "  tempo,\n",
    "  time_signature,\n",
    "  title,\n",
    "  year,\n",
    "  current_timestamp()\n",
    "FROM\n",
    "  hjh_workspace.bronze.raw_song"
   ]
  },
  {
   "cell_type": "code",
   "execution_count": 0,
   "metadata": {
    "application/vnd.databricks.v1+cell": {
     "cellMetadata": {},
     "inputWidgets": {},
     "nuid": "d6e744f1-1e7d-4aa6-9ad5-ae6c0aed75b8",
     "showTitle": false,
     "tableResultSettingsMap": {},
     "title": ""
    }
   },
   "outputs": [],
   "source": []
  }
 ],
 "metadata": {
  "application/vnd.databricks.v1+notebook": {
   "computePreferences": null,
   "dashboards": [],
   "environmentMetadata": {
    "base_environment": "",
    "environment_version": "2"
   },
   "language": "sql",
   "notebookMetadata": {
    "pythonIndentUnit": 4
   },
   "notebookName": "Hands-On-06-02",
   "widgets": {}
  },
  "language_info": {
   "name": "sql"
  }
 },
 "nbformat": 4,
 "nbformat_minor": 0
}
